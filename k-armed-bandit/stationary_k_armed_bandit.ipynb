{
 "cells": [
  {
   "cell_type": "code",
   "execution_count": 1,
   "metadata": {},
   "outputs": [],
   "source": [
    "import random\n",
    "import numpy as np\n",
    "import matplotlib.pyplot as plt\n",
    "random.seed()"
   ]
  },
  {
   "cell_type": "code",
   "execution_count": 2,
   "metadata": {},
   "outputs": [],
   "source": [
    "def initialize_action_value_function(number_of_actions: int) -> list:\n",
    "    q_real = []\n",
    "    for _ in range(k):\n",
    "        q_real.append(random.randint(0, k))\n",
    "    return q_real\n",
    "\n",
    "\n",
    "def get_action_reward(\n",
    "        q_real_action: int, divergence: float) -> float:\n",
    "    return float(q_real_action) + (random.random() * 2 * divergence) - divergence\n",
    "   \n",
    "\n",
    "def get_greedy_action(Q: list) -> int:\n",
    "    greedy_actions = [np.argmax(Q)]\n",
    "    last_index = greedy_actions[-1]\n",
    "    if last_index != len(Q) - 1:\n",
    "        next_max = last_index + np.argmax(Q[last_index + 1:]) + 1\n",
    "        while Q[last_index] == Q[next_max]:\n",
    "            greedy_actions.append(next_max)\n",
    "            last_index = greedy_actions[-1]\n",
    "            if last_index == len(Q) - 1:\n",
    "                break\n",
    "            next_max = last_index + np.argmax(Q[last_index + 1:]) + 1\n",
    "    choosen_action = random.choice(greedy_actions)\n",
    "    return choosen_action  \n",
    "\n",
    "\n",
    "def get_solution_stats(Q: list, q_real: list, cumulative_reward: float, iteration_no: int=100) -> tuple:\n",
    "    mse = ((np.array(q_real) - np.array(Q)) ** 2).mean(axis=0)\n",
    "    average_reward = cumulative_reward / iteration_no / np.max(q_real)\n",
    "    return mse, average_reward\n",
    "\n",
    "\n",
    "def stationary_k_arm_bandit(k: int, q_real: list, iteration_no: int=100, epsilon: float=0.1, divergence: float=1.0):\n",
    "    performance_mse = []\n",
    "    performance_average_reward = []\n",
    "    Q = [0] * k\n",
    "    N = [0] * k\n",
    "    cumulative_reward = 0\n",
    "    for i in range(iteration_no):\n",
    "        probability = random.random()\n",
    "        if probability > epsilon:\n",
    "            action = get_greedy_action(Q)\n",
    "        else:\n",
    "            action = random.randint(0, k - 1)\n",
    "\n",
    "        reward = get_action_reward(q_real[action], divergence)\n",
    "        cumulative_reward += reward\n",
    "        N[action] += 1\n",
    "        Q[action] += (reward - Q[action]) / N[action]\n",
    "        \n",
    "        mse, average_reward = get_solution_stats(Q, q_real, cumulative_reward, iteration_no=(i + 1))\n",
    "        performance_mse.append(mse)\n",
    "        performance_average_reward.append(average_reward)\n",
    "    return performance_mse, performance_average_reward\n",
    "        "
   ]
  },
  {
   "cell_type": "code",
   "execution_count": 3,
   "metadata": {},
   "outputs": [
    {
     "data": {
      "image/png": "[encoded data removed]",
      "text/plain": [
       "<Figure size 432x288 with 1 Axes>"
      ]
     },
     "metadata": {},
     "output_type": "display_data"
    },
    {
     "name": "stdout",
     "output_type": "stream",
     "text": [
      "0.94905 0.933325 0.9185375\n"
     ]
    }
   ],
   "source": [
    "k = 10            # arms number\n",
    "iter_no = 10000\n",
    "q_real = initialize_action_value_function(k)\n",
    "performance_mse_0_1, performance_average_reward_0_1 = stationary_k_arm_bandit(k, q_real, iteration_no=iter_no, epsilon=0.1, divergence=0)\n",
    "performance_mse_0_01, performance_average_reward_0_01 = stationary_k_arm_bandit(k, q_real, iteration_no=iter_no, epsilon=0.01, divergence=0)\n",
    "performance_mse_0_001, performance_average_reward_0_001 = stationary_k_arm_bandit(k, q_real, iteration_no=iter_no, epsilon=0.001, divergence=0)\n",
    "plt.plot(range(iter_no), performance_average_reward_0_1, range(iter_no), performance_average_reward_0_01, range(iter_no), performance_average_reward_0_001)\n",
    "plt.legend(('0.1', '0.01', '0.001'))\n",
    "\n",
    "plt.show()\n",
    "print(performance_average_reward_0_1[-1], performance_average_reward_0_01[-1], performance_average_reward_0_001[-1])"
   ]
  }
 ],
 "metadata": {
  "kernelspec": {
   "display_name": "Python 3",
   "language": "python",
   "name": "python3"
  },
  "language_info": {
   "codemirror_mode": {
    "name": "ipython",
    "version": 3
   },
   "file_extension": ".py",
   "mimetype": "text/x-python",
   "name": "python",
   "nbconvert_exporter": "python",
   "pygments_lexer": "ipython3",
   "version": "3.6.5"
  }
 },
 "nbformat": 4,
 "nbformat_minor": 2
}
